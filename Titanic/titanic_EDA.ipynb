{
 "cells": [
  {
   "cell_type": "code",
   "execution_count": 1,
   "id": "151ca863",
   "metadata": {},
   "outputs": [],
   "source": [
    "import pandas as pd\n",
    "import jax.numpy as jnp\n",
    "import matplotlib.pyplot as plt"
   ]
  },
  {
   "cell_type": "code",
   "execution_count": 3,
   "id": "5edc8a35",
   "metadata": {},
   "outputs": [],
   "source": [
    "D = pd.read_csv(\"./data/titanic/train_titanic.csv\")"
   ]
  },
  {
   "cell_type": "code",
   "execution_count": 8,
   "id": "75ce6ccc",
   "metadata": {},
   "outputs": [
    {
     "name": "stdout",
     "output_type": "stream",
     "text": [
      "PassengerId\n",
      "Survived\n",
      "Pclass\n",
      "Name\n",
      "Sex\n",
      "Age\n",
      "SibSp\n",
      "Parch\n",
      "Ticket\n",
      "Fare\n",
      "Cabin\n",
      "Embarked\n"
     ]
    }
   ],
   "source": [
    "D_nan = map(pd.)"
   ]
  },
  {
   "cell_type": "code",
   "execution_count": 9,
   "id": "a27c8edb",
   "metadata": {},
   "outputs": [
    {
     "data": {
      "text/plain": [
       "<bound method Series.isna of 0        1\n",
       "1        2\n",
       "2        3\n",
       "3        4\n",
       "4        5\n",
       "      ... \n",
       "886    887\n",
       "887    888\n",
       "888    889\n",
       "889    890\n",
       "890    891\n",
       "Name: PassengerId, Length: 891, dtype: int64>"
      ]
     },
     "execution_count": 9,
     "metadata": {},
     "output_type": "execute_result"
    }
   ],
   "source": [
    "D[\"PassengerId\"].isna"
   ]
  },
  {
   "cell_type": "code",
   "execution_count": null,
   "id": "bb701173",
   "metadata": {},
   "outputs": [],
   "source": [
    "class Model:\n",
    "    "
   ]
  },
  {
   "cell_type": "code",
   "execution_count": 12,
   "id": "9c19f80b",
   "metadata": {},
   "outputs": [],
   "source": [
    "## Recap on Python underscores and name mangling:\n",
    "# Using something like self._variableName is used to denote a \"private\" variable. In Python, private variables don't exist like in java,\n",
    "# and so this is more of a naming convention to let the programmer(s)/user(s) know which variables should not be touched without consequences. \n",
    "# Importing a module via \"from MODNAME import *\" will not import methods that have a single underscore.\n",
    "\n",
    "# On the other hand, self.__variableName1 (2 underscores) will be mangled by python in a class. This is useful when you have a subclass with a similar\n",
    "# attribute. For a class BaseClass, self.__attribute1 will only be accessible via baseClass._BaseClass_attribute1.\n",
    "# Double underscores pre and proceeding a variable is python inner working stuff.\n",
    "\n",
    "## Super & inheritance:\n",
    "# For classes that inherit another class, super(SomeBaseClass, instanceOfBaseClassButDoesntHaveTobeBaseClass), \n",
    "# or by default in py3, super() => super(BaseClass, self), generates a temporary object to call methods from.\n",
    "# super.__init__(attr1, attr2, ..., attr_n) initializes the temporary super class.\n",
    "# methodOutput1 = super.methodName1() computes methodName1, pretty straightforward.\n",
    "\n",
    "# @classmethod annotation\n",
    "# Think of @classmethod as a static method which doesn't require instantiation. rather than \"self\", \"cls\" is recommended to be used instead\n",
    "# when declaring the attributes"
   ]
  },
  {
   "cell_type": "code",
   "execution_count": null,
   "id": "afee4443",
   "metadata": {},
   "outputs": [],
   "source": []
  }
 ],
 "metadata": {
  "kernelspec": {
   "display_name": "env1",
   "language": "python",
   "name": "env1"
  },
  "language_info": {
   "codemirror_mode": {
    "name": "ipython",
    "version": 3
   },
   "file_extension": ".py",
   "mimetype": "text/x-python",
   "name": "python",
   "nbconvert_exporter": "python",
   "pygments_lexer": "ipython3",
   "version": "3.10.9"
  }
 },
 "nbformat": 4,
 "nbformat_minor": 5
}
